{
  "nbformat": 4,
  "nbformat_minor": 0,
  "metadata": {
    "colab": {
      "provenance": [],
      "authorship_tag": "ABX9TyOE/BtMan1abyDBIt6Q2glP",
      "include_colab_link": true
    },
    "kernelspec": {
      "name": "python3",
      "display_name": "Python 3"
    },
    "language_info": {
      "name": "python"
    }
  },
  "cells": [
    {
      "cell_type": "markdown",
      "metadata": {
        "id": "view-in-github",
        "colab_type": "text"
      },
      "source": [
        "<a href=\"https://colab.research.google.com/github/Umaraslam66/Rail_DRL/blob/main/TrainEnv.ipynb\" target=\"_parent\"><img src=\"https://colab.research.google.com/assets/colab-badge.svg\" alt=\"Open In Colab\"/></a>"
      ]
    },
    {
      "cell_type": "markdown",
      "source": [
        "**Class Station**"
      ],
      "metadata": {
        "id": "ruT43S41NemY"
      }
    },
    {
      "cell_type": "code",
      "source": [
        "class Station:\n",
        "    def __init__(self, name):\n",
        "        self.name = name\n",
        "        self.tracks = []\n",
        "        self.station_tracks = {}  # Dictionary to store StationTrack instances\n",
        "\n",
        "    def add_track(self, track):\n",
        "        self.tracks.append(track)\n",
        "\n",
        "    def add_station_track(self, track_id, capacity):\n",
        "        station_track = StationTrack(track_id, capacity)\n",
        "        self.station_tracks[track_id] = station_track\n",
        "\n",
        "    def get_available_station_tracks(self):\n",
        "        return [track_id for track_id, station_track in self.station_tracks.items() if station_track.occupancy < station_track.capacity]"
      ],
      "metadata": {
        "id": "3xi62lO4NQSB"
      },
      "execution_count": null,
      "outputs": []
    },
    {
      "cell_type": "markdown",
      "source": [
        "**Class Track**"
      ],
      "metadata": {
        "id": "QpP3LCZcNn0q"
      }
    },
    {
      "cell_type": "code",
      "source": [
        "class Track:\n",
        "    def __init__(self, source, destination, track_type, direction, block_id):\n",
        "        self.source = source\n",
        "        self.destination = destination\n",
        "        self.track_type = track_type\n",
        "        self.direction = direction\n",
        "        self.block_id = block_id  # Unique identifier for the block\n",
        "        self.occupancy_status = False  # Initial occupancy status"
      ],
      "metadata": {
        "id": "TIm74mwPNbNo"
      },
      "execution_count": null,
      "outputs": []
    },
    {
      "cell_type": "markdown",
      "source": [
        "**Class Station Track**"
      ],
      "metadata": {
        "id": "poYQjAS0NtvJ"
      }
    },
    {
      "cell_type": "code",
      "execution_count": null,
      "metadata": {
        "id": "gWyPSBrDKAj7"
      },
      "outputs": [],
      "source": [
        "class StationTrack:\n",
        "    def __init__(self, track_id, capacity, block_id):\n",
        "        self.track_id = track_id\n",
        "        self.capacity = capacity\n",
        "        self.block_id = block_id\n",
        "        self.occupancy = 0  # Number of trains currently occupying the track\n",
        "\n",
        "    def occupy(self):\n",
        "        if self.occupancy < self.capacity and not self.occupancy_status:\n",
        "            self.occupancy += 1\n",
        "            self.occupancy_status = True\n",
        "            return True  # Train successfully occupies the track\n",
        "        else:\n",
        "            return False  # Track is at full capacity or already occupied\n",
        "\n",
        "    def release(self):\n",
        "        if self.occupancy > 0:\n",
        "            self.occupancy -= 1\n",
        "            self.occupancy_status = False\n",
        "            return True  # Train successfully releases the track\n",
        "        else:\n",
        "            return False  # No trains are currently occupying the track\n",
        "\n"
      ]
    },
    {
      "cell_type": "markdown",
      "source": [
        "**Class Train**"
      ],
      "metadata": {
        "id": "x8oApIKKOLFx"
      }
    },
    {
      "cell_type": "code",
      "source": [
        "class Train:\n",
        "    def __init__(self, train_id, train_type, schedule):\n",
        "        self.train_id = train_id\n",
        "        self.train_type = train_type\n",
        "        self.schedule = schedule  # List of (station, arrival_time) tuples\n",
        "        self.current_position = None\n",
        "        self.speed = None\n",
        "\n",
        "    def initialize_train(self, initial_position, initial_speed):\n",
        "        self.current_position = initial_position\n",
        "        self.speed = initial_speed\n",
        "\n",
        "    def update_position(self, elapsed_time):\n",
        "        if self.current_position is not None and self.speed is not None:\n",
        "            # Calculate the new position based on speed and time\n",
        "            distance_traveled = self.speed * elapsed_time\n",
        "            self.current_position += distance_traveled\n",
        "\n",
        "    def get_next_station(self):\n",
        "        if self.current_position is not None:\n",
        "            # Find the next station in the schedule based on the current position\n",
        "            for station, arrival_time in self.schedule:\n",
        "                if self.current_position < arrival_time:\n",
        "                    return station\n",
        "\n",
        "        return None  # Train has reached the end of its route\n"
      ],
      "metadata": {
        "id": "62c8oUwZOOhT"
      },
      "execution_count": null,
      "outputs": []
    },
    {
      "cell_type": "markdown",
      "source": [
        "**Class Railway System**\n"
      ],
      "metadata": {
        "id": "9l6pj-a-N2Gh"
      }
    },
    {
      "cell_type": "code",
      "source": [
        "class RailwaySystem:\n",
        "    def __init__(self):\n",
        "        self.stations = {}\n",
        "        self.tracks = []\n",
        "        self.trains = []\n",
        "\n",
        "    def add_station(self, name):\n",
        "        station = Station(name)\n",
        "        self.stations[name] = station\n",
        "\n",
        "    def add_track(self, source, destination, track_type, direction, block_id):\n",
        "        track = Track(source, destination, track_type, direction, block_id)\n",
        "        self.tracks.append(track)\n",
        "\n",
        "        # Connect stations with tracks\n",
        "        self.stations[source].add_track(track)\n",
        "        self.stations[destination].add_track(track)\n",
        "\n",
        "    def add_station_track(self, track_id, capacity, block_id):\n",
        "        station_track = StationTrack(track_id, capacity, block_id)\n",
        "        self.stations_tracks[track_id] = station_track\n",
        "\n",
        "    def add_train(self, train_id, train_type, schedule):\n",
        "        train = Train(train_id, train_type, schedule)\n",
        "        self.trains.append(train)\n",
        "\n",
        "    def initialize_trains(self, initial_positions, initial_speeds):\n",
        "        for train, initial_position, initial_speed in zip(self.trains, initial_positions, initial_speeds):\n",
        "            train.initialize_train(initial_position, initial_speed)\n"
      ],
      "metadata": {
        "id": "zk2rg6h8N1y8"
      },
      "execution_count": null,
      "outputs": []
    },
    {
      "cell_type": "code",
      "source": [],
      "metadata": {
        "id": "yk6c_dBwP6yt"
      },
      "execution_count": null,
      "outputs": []
    }
  ]
}